{
 "cells": [
  {
   "cell_type": "markdown",
   "metadata": {},
   "source": [
    "# WeatherPy\n",
    "----\n",
    "\n",
    "#### Note\n",
    "* Instructions have been included for each segment. You do not have to follow them exactly, but they are included to help you think through the steps."
   ]
  },
  {
   "cell_type": "code",
   "execution_count": 163,
   "metadata": {},
   "outputs": [
    {
     "name": "stdout",
     "output_type": "stream",
     "text": [
      "Requirement already satisfied: citipy in /Users/jessicalayne/opt/anaconda3/envs/PythonData/lib/python3.6/site-packages (0.0.5)\n",
      "Requirement already satisfied: kdtree>=0.12 in /Users/jessicalayne/opt/anaconda3/envs/PythonData/lib/python3.6/site-packages (from citipy) (0.16)\n",
      "Note: you may need to restart the kernel to use updated packages.\n"
     ]
    }
   ],
   "source": [
    "pip install citipy"
   ]
  },
  {
   "cell_type": "code",
   "execution_count": 164,
   "metadata": {
    "scrolled": true
   },
   "outputs": [],
   "source": [
    "# Dependencies and Setup\n",
    "import matplotlib.pyplot as plt\n",
    "import pandas as pd\n",
    "import numpy as np\n",
    "import requests\n",
    "import time\n",
    "from scipy.stats import linregress\n",
    "\n",
    "# Import API key\n",
    "from api_keys import weather_api_key\n",
    "\n",
    "# Incorporated citipy to determine city based on latitude and longitude\n",
    "from citipy import citipy\n",
    "\n",
    "# Output File (CSV)\n",
    "output_data_file = \"../Resources/cities.csv\"\n",
    "\n",
    "# Range of latitudes and longitudes\n",
    "lat_range = (-90, 90)\n",
    "lng_range = (-180, 180)"
   ]
  },
  {
   "cell_type": "markdown",
   "metadata": {},
   "source": [
    "## Generate Cities List"
   ]
  },
  {
   "cell_type": "code",
   "execution_count": 165,
   "metadata": {},
   "outputs": [
    {
     "data": {
      "text/plain": [
       "588"
      ]
     },
     "execution_count": 165,
     "metadata": {},
     "output_type": "execute_result"
    }
   ],
   "source": [
    "# List for holding lat_lngs and cities\n",
    "lat_lngs = []\n",
    "cities = []\n",
    "\n",
    "# Create a set of random lat and lng combinations\n",
    "lats = np.random.uniform(lat_range[0], lat_range[1], size=1500)\n",
    "lngs = np.random.uniform(lng_range[0], lng_range[1], size=1500)\n",
    "lat_lngs = zip(lats, lngs)\n",
    "\n",
    "# Identify nearest city for each lat, lng combination\n",
    "for lat_lng in lat_lngs:\n",
    "    city = citipy.nearest_city(lat_lng[0], lat_lng[1]).city_name\n",
    "    \n",
    "    # If the city is unique, then add it to a our cities list\n",
    "    if city not in cities:\n",
    "        cities.append(city)\n",
    "\n",
    "# Print the city count to confirm sufficient count\n",
    "len(cities)"
   ]
  },
  {
   "cell_type": "markdown",
   "metadata": {},
   "source": [
    "### Perform API Calls\n",
    "* Perform a weather check on each city using a series of successive API calls.\n",
    "* Include a print log of each city as it'sbeing processed (with the city number and city name).\n"
   ]
  },
  {
   "cell_type": "code",
   "execution_count": 166,
   "metadata": {},
   "outputs": [
    {
     "name": "stdout",
     "output_type": "stream",
     "text": [
      "Processing Record 1 of set 1 | saskylakh\n",
      "Processing Record 2 of set 1 | ushuaia\n",
      "Processing Record 3 of set 1 | longyearbyen\n",
      "Processing Record 4 of set 1 | mahebourg\n",
      "Processing Record 5 of set 1 | nome\n",
      "Processing Record 6 of set 1 | husavik\n",
      "Processing Record 7 of set 1 | kavieng\n",
      "Processing Record 8 of set 1 | leh\n",
      "Processing Record 9 of set 1 | dikson\n",
      "Processing Record 10 of set 1 | alappuzha\n",
      "Processing Record 11 of set 1 | sorong\n",
      "Processing Record 12 of set 1 | matara\n",
      "Processing Record 13 of set 1 | inta\n",
      "Processing Record 14 of set 1 | pandan\n",
      "Processing Record 15 of set 1 | carnarvon\n",
      "Processing Record 16 of set 1 | seoul\n",
      "Processing Record 17 of set 1 | tuktoyaktuk\n",
      "Processing Record 18 of set 1 | warqla\n",
      "city not found.Skipping...\n",
      "Processing Record 19 of set 1 | rikitea\n",
      "Processing Record 20 of set 1 | port alfred\n",
      "Processing Record 21 of set 1 | eureka\n",
      "Processing Record 22 of set 1 | albany\n",
      "Processing Record 23 of set 1 | hobart\n",
      "Processing Record 24 of set 1 | taolanaro\n",
      "city not found.Skipping...\n",
      "Processing Record 25 of set 1 | kodiak\n",
      "Processing Record 26 of set 1 | attawapiskat\n",
      "city not found.Skipping...\n",
      "Processing Record 27 of set 1 | cape town\n",
      "Processing Record 28 of set 1 | babanusah\n",
      "city not found.Skipping...\n",
      "Processing Record 29 of set 1 | ponta do sol\n",
      "Processing Record 30 of set 1 | hermanus\n",
      "Processing Record 31 of set 1 | barrow\n",
      "Processing Record 32 of set 1 | narsaq\n",
      "Processing Record 33 of set 1 | pandamatenga\n",
      "Processing Record 34 of set 1 | cherskiy\n",
      "Processing Record 35 of set 1 | yellowknife\n",
      "Processing Record 36 of set 1 | provideniya\n",
      "Processing Record 37 of set 1 | port hedland\n",
      "Processing Record 38 of set 1 | nikolskoye\n",
      "Processing Record 39 of set 1 | east london\n",
      "Processing Record 40 of set 1 | bolungarvik\n",
      "city not found.Skipping...\n",
      "Processing Record 41 of set 1 | jamestown\n",
      "Processing Record 42 of set 1 | wangqing\n",
      "Processing Record 43 of set 1 | mentok\n",
      "city not found.Skipping...\n",
      "Processing Record 44 of set 1 | kapaa\n",
      "Processing Record 45 of set 1 | furukawa\n",
      "Processing Record 46 of set 1 | georgetown\n",
      "Processing Record 47 of set 1 | qaanaaq\n",
      "Processing Record 48 of set 1 | mogadishu\n",
      "Processing Record 49 of set 1 | berlevag\n",
      "Processing Record 50 of set 1 | vaini\n",
      "Processing Record 0 of set 2 | puerto ayora\n",
      "Processing Record 1 of set 2 | victoria\n",
      "Processing Record 2 of set 2 | ribeira grande\n",
      "Processing Record 3 of set 2 | vallenar\n",
      "Processing Record 4 of set 2 | atuona\n",
      "Processing Record 5 of set 2 | coos bay\n",
      "Processing Record 6 of set 2 | kuytun\n",
      "Processing Record 7 of set 2 | stokmarknes\n",
      "Processing Record 8 of set 2 | howard springs\n",
      "Processing Record 9 of set 2 | torbay\n",
      "Processing Record 10 of set 2 | pangnirtung\n",
      "Processing Record 11 of set 2 | shaoyang\n",
      "Processing Record 12 of set 2 | loandjili\n",
      "Processing Record 13 of set 2 | illoqqortoormiut\n",
      "city not found.Skipping...\n",
      "Processing Record 14 of set 2 | severo-kurilsk\n",
      "Processing Record 15 of set 2 | halalo\n",
      "city not found.Skipping...\n",
      "Processing Record 16 of set 2 | ilulissat\n",
      "Processing Record 17 of set 2 | lavrentiya\n",
      "Processing Record 18 of set 2 | barentsburg\n",
      "city not found.Skipping...\n",
      "Processing Record 19 of set 2 | nizhneyansk\n",
      "city not found.Skipping...\n",
      "Processing Record 20 of set 2 | matelandia\n",
      "Processing Record 21 of set 2 | waitati\n",
      "Processing Record 22 of set 2 | tumannyy\n",
      "city not found.Skipping...\n",
      "Processing Record 23 of set 2 | qasigiannguit\n",
      "Processing Record 24 of set 2 | new norfolk\n",
      "Processing Record 25 of set 2 | umzimvubu\n",
      "city not found.Skipping...\n",
      "Processing Record 26 of set 2 | lorengau\n",
      "Processing Record 27 of set 2 | melo\n",
      "Processing Record 28 of set 2 | punta arenas\n",
      "Processing Record 29 of set 2 | grand river south east\n",
      "city not found.Skipping...\n",
      "Processing Record 30 of set 2 | kruisfontein\n",
      "Processing Record 31 of set 2 | hasaki\n",
      "Processing Record 32 of set 2 | safaga\n",
      "Processing Record 33 of set 2 | nishihara\n",
      "Processing Record 34 of set 2 | vanimo\n",
      "Processing Record 35 of set 2 | avarua\n",
      "Processing Record 36 of set 2 | amderma\n",
      "city not found.Skipping...\n",
      "Processing Record 37 of set 2 | mataura\n",
      "Processing Record 38 of set 2 | angra\n",
      "city not found.Skipping...\n",
      "Processing Record 39 of set 2 | mar del plata\n",
      "Processing Record 40 of set 2 | yagodnoye\n",
      "Processing Record 41 of set 2 | dolbeau\n",
      "city not found.Skipping...\n",
      "Processing Record 42 of set 2 | mys shmidta\n",
      "city not found.Skipping...\n",
      "Processing Record 43 of set 2 | bluff\n",
      "Processing Record 44 of set 2 | umm kaddadah\n",
      "Processing Record 45 of set 2 | mount gambier\n",
      "Processing Record 46 of set 2 | pondicherry\n",
      "Processing Record 47 of set 2 | tabiauea\n",
      "city not found.Skipping...\n",
      "Processing Record 48 of set 2 | crotone\n",
      "Processing Record 49 of set 2 | iqaluit\n",
      "Processing Record 0 of set 3 | bredasdorp\n",
      "Processing Record 1 of set 3 | belushya guba\n",
      "city not found.Skipping...\n",
      "Processing Record 2 of set 3 | santa fe\n",
      "Processing Record 3 of set 3 | balikpapan\n",
      "Processing Record 4 of set 3 | tiksi\n",
      "Processing Record 5 of set 3 | andevoranto\n",
      "city not found.Skipping...\n",
      "Processing Record 6 of set 3 | arraial do cabo\n",
      "Processing Record 7 of set 3 | lebu\n",
      "Processing Record 8 of set 3 | puri\n",
      "Processing Record 9 of set 3 | yar-sale\n",
      "Processing Record 10 of set 3 | busselton\n",
      "Processing Record 11 of set 3 | klaksvik\n",
      "Processing Record 12 of set 3 | bilibino\n",
      "Processing Record 13 of set 3 | pisco\n",
      "Processing Record 14 of set 3 | bethel\n",
      "Processing Record 15 of set 3 | vitre\n",
      "Processing Record 16 of set 3 | deputatskiy\n",
      "Processing Record 17 of set 3 | abonnema\n",
      "Processing Record 18 of set 3 | voskresenskoye\n",
      "Processing Record 19 of set 3 | zwedru\n",
      "Processing Record 20 of set 3 | tsihombe\n",
      "city not found.Skipping...\n",
      "Processing Record 21 of set 3 | souillac\n",
      "Processing Record 22 of set 3 | chokurdakh\n",
      "Processing Record 23 of set 3 | samusu\n",
      "city not found.Skipping...\n",
      "Processing Record 24 of set 3 | lomovka\n",
      "Processing Record 25 of set 3 | antofagasta\n",
      "Processing Record 26 of set 3 | mananjary\n",
      "Processing Record 27 of set 3 | thompson\n",
      "Processing Record 28 of set 3 | stoyba\n",
      "city not found.Skipping...\n",
      "Processing Record 29 of set 3 | coahuayana\n",
      "Processing Record 30 of set 3 | vestmanna\n",
      "Processing Record 31 of set 3 | buncrana\n",
      "Processing Record 32 of set 3 | puerto leguizamo\n",
      "Processing Record 33 of set 3 | upernavik\n",
      "Processing Record 34 of set 3 | touros\n",
      "Processing Record 35 of set 3 | zernograd\n",
      "Processing Record 36 of set 3 | fairbanks\n",
      "Processing Record 37 of set 3 | esperance\n",
      "Processing Record 38 of set 3 | satitoa\n",
      "city not found.Skipping...\n",
      "Processing Record 39 of set 3 | rawson\n",
      "Processing Record 40 of set 3 | shimoda\n",
      "Processing Record 41 of set 3 | zhezkazgan\n",
      "Processing Record 42 of set 3 | te anau\n",
      "Processing Record 43 of set 3 | butaritari\n",
      "Processing Record 44 of set 3 | cidreira\n",
      "Processing Record 45 of set 3 | valparaiso\n",
      "Processing Record 46 of set 3 | tarko-sale\n",
      "Processing Record 47 of set 3 | dunedin\n",
      "Processing Record 48 of set 3 | hami\n",
      "Processing Record 49 of set 3 | thinadhoo\n",
      "Processing Record 0 of set 4 | wagar\n",
      "Processing Record 1 of set 4 | dubenskiy\n",
      "city not found.Skipping...\n",
      "Processing Record 2 of set 4 | torit\n",
      "Processing Record 3 of set 4 | umm lajj\n",
      "Processing Record 4 of set 4 | nanakuli\n",
      "Processing Record 5 of set 4 | tuatapere\n",
      "Processing Record 6 of set 4 | ghanzi\n",
      "Processing Record 7 of set 4 | hilo\n",
      "Processing Record 8 of set 4 | asau\n",
      "Processing Record 9 of set 4 | verkhoyansk\n",
      "Processing Record 10 of set 4 | geraldton\n",
      "Processing Record 11 of set 4 | namibe\n",
      "Processing Record 12 of set 4 | lilongwe\n",
      "Processing Record 13 of set 4 | bosanska gradiska\n",
      "Processing Record 14 of set 4 | itarema\n",
      "Processing Record 15 of set 4 | saint-philippe\n",
      "Processing Record 16 of set 4 | libreville\n",
      "Processing Record 17 of set 4 | zamora\n",
      "Processing Record 18 of set 4 | lufkin\n",
      "Processing Record 19 of set 4 | bolshoy tsaryn\n",
      "city not found.Skipping...\n",
      "Processing Record 20 of set 4 | codrington\n",
      "Processing Record 21 of set 4 | kuche\n",
      "city not found.Skipping...\n",
      "Processing Record 22 of set 4 | flinders\n",
      "Processing Record 23 of set 4 | nsoko\n",
      "Processing Record 24 of set 4 | oxelosund\n",
      "Processing Record 25 of set 4 | belle fourche\n",
      "Processing Record 26 of set 4 | cotonou\n",
      "Processing Record 27 of set 4 | richards bay\n",
      "Processing Record 28 of set 4 | tyukalinsk\n",
      "Processing Record 29 of set 4 | norman wells\n",
      "Processing Record 30 of set 4 | druzhba\n",
      "Processing Record 31 of set 4 | pevek\n"
     ]
    },
    {
     "name": "stdout",
     "output_type": "stream",
     "text": [
      "Processing Record 32 of set 4 | poso\n",
      "Processing Record 33 of set 4 | airai\n",
      "Processing Record 34 of set 4 | maridi\n",
      "Processing Record 35 of set 4 | chuy\n",
      "Processing Record 36 of set 4 | vardo\n",
      "Processing Record 37 of set 4 | athabasca\n",
      "Processing Record 38 of set 4 | kayasula\n",
      "Processing Record 39 of set 4 | sorkjosen\n",
      "Processing Record 40 of set 4 | manhush\n",
      "Processing Record 41 of set 4 | kamuli\n",
      "Processing Record 42 of set 4 | uroteppa\n",
      "city not found.Skipping...\n",
      "Processing Record 43 of set 4 | aklavik\n",
      "Processing Record 44 of set 4 | hithadhoo\n",
      "Processing Record 45 of set 4 | kimbe\n",
      "Processing Record 46 of set 4 | puerto carreno\n",
      "Processing Record 47 of set 4 | paita\n",
      "Processing Record 48 of set 4 | gambo\n",
      "Processing Record 49 of set 4 | verkhnyaya inta\n",
      "Processing Record 0 of set 5 | sakakah\n",
      "Processing Record 1 of set 5 | garmsar\n",
      "Processing Record 2 of set 5 | beringovskiy\n",
      "Processing Record 3 of set 5 | augusto correa\n",
      "Processing Record 4 of set 5 | vaitupu\n",
      "city not found.Skipping...\n",
      "Processing Record 5 of set 5 | comodoro rivadavia\n",
      "Processing Record 6 of set 5 | college\n",
      "Processing Record 7 of set 5 | kaura namoda\n",
      "Processing Record 8 of set 5 | inhambane\n",
      "Processing Record 9 of set 5 | talnakh\n",
      "Processing Record 10 of set 5 | havoysund\n",
      "Processing Record 11 of set 5 | miles city\n",
      "Processing Record 12 of set 5 | cockburn town\n",
      "Processing Record 13 of set 5 | awbari\n",
      "Processing Record 14 of set 5 | bambous virieux\n",
      "Processing Record 15 of set 5 | coquimbo\n",
      "Processing Record 16 of set 5 | kerzhenets\n",
      "city not found.Skipping...\n",
      "Processing Record 17 of set 5 | dongning\n",
      "Processing Record 18 of set 5 | isangel\n",
      "Processing Record 19 of set 5 | siavonga\n",
      "Processing Record 20 of set 5 | portland\n",
      "Processing Record 21 of set 5 | san cristobal\n",
      "Processing Record 22 of set 5 | meadow lake\n",
      "Processing Record 23 of set 5 | ambilobe\n",
      "Processing Record 24 of set 5 | los llanos de aridane\n",
      "Processing Record 25 of set 5 | lyuban\n",
      "Processing Record 26 of set 5 | birjand\n",
      "Processing Record 27 of set 5 | jalu\n",
      "Processing Record 28 of set 5 | clyde river\n",
      "Processing Record 29 of set 5 | lagoa\n",
      "Processing Record 30 of set 5 | caravelas\n",
      "Processing Record 31 of set 5 | dilla\n",
      "Processing Record 32 of set 5 | cody\n",
      "Processing Record 33 of set 5 | tura\n",
      "Processing Record 34 of set 5 | san rafael\n",
      "Processing Record 35 of set 5 | lufilufi\n",
      "Processing Record 36 of set 5 | vanersborg\n",
      "Processing Record 37 of set 5 | kargasok\n",
      "Processing Record 38 of set 5 | port hardy\n",
      "Processing Record 39 of set 5 | batemans bay\n",
      "Processing Record 40 of set 5 | bathsheba\n",
      "Processing Record 41 of set 5 | bestobe\n",
      "Processing Record 42 of set 5 | ola\n",
      "Processing Record 43 of set 5 | sao filipe\n",
      "Processing Record 44 of set 5 | tecoanapa\n",
      "Processing Record 45 of set 5 | dingle\n",
      "Processing Record 46 of set 5 | roncesvalles\n",
      "Processing Record 47 of set 5 | katherine\n",
      "Processing Record 48 of set 5 | leningradskiy\n",
      "Processing Record 49 of set 5 | vetlanda\n",
      "Processing Record 0 of set 6 | saldanha\n",
      "Processing Record 1 of set 6 | amahai\n",
      "Processing Record 2 of set 6 | san quintin\n",
      "Processing Record 3 of set 6 | saleaula\n",
      "city not found.Skipping...\n",
      "Processing Record 4 of set 6 | labutta\n",
      "city not found.Skipping...\n",
      "Processing Record 5 of set 6 | tasiilaq\n",
      "Processing Record 6 of set 6 | kamenka\n",
      "Processing Record 7 of set 6 | viligili\n",
      "city not found.Skipping...\n",
      "Processing Record 8 of set 6 | valparai\n",
      "Processing Record 9 of set 6 | yirol\n",
      "city not found.Skipping...\n",
      "Processing Record 10 of set 6 | kabo\n",
      "Processing Record 11 of set 6 | paamiut\n",
      "Processing Record 12 of set 6 | lahij\n",
      "Processing Record 13 of set 6 | inirida\n",
      "Processing Record 14 of set 6 | zemio\n",
      "Processing Record 15 of set 6 | kristinehamn\n",
      "Processing Record 16 of set 6 | mochalishche\n",
      "Processing Record 17 of set 6 | hohoe\n",
      "Processing Record 18 of set 6 | fortuna\n",
      "Processing Record 19 of set 6 | opuwo\n",
      "Processing Record 20 of set 6 | houma\n",
      "Processing Record 21 of set 6 | tessalit\n",
      "Processing Record 22 of set 6 | luderitz\n",
      "Processing Record 23 of set 6 | puerto del rosario\n",
      "Processing Record 24 of set 6 | acarau\n",
      "Processing Record 25 of set 6 | gizo\n",
      "Processing Record 26 of set 6 | paradwip\n",
      "city not found.Skipping...\n",
      "Processing Record 27 of set 6 | namatanai\n",
      "Processing Record 28 of set 6 | punta alta\n",
      "Processing Record 29 of set 6 | esmeraldas\n",
      "Processing Record 30 of set 6 | kargat\n",
      "Processing Record 31 of set 6 | yulara\n",
      "Processing Record 32 of set 6 | borama\n",
      "city not found.Skipping...\n",
      "Processing Record 33 of set 6 | seredka\n",
      "Processing Record 34 of set 6 | taltal\n",
      "Processing Record 35 of set 6 | kang\n",
      "Processing Record 36 of set 6 | khatanga\n",
      "Processing Record 37 of set 6 | myrtle beach\n",
      "Processing Record 38 of set 6 | ituiutaba\n",
      "Processing Record 39 of set 6 | moses lake\n",
      "Processing Record 40 of set 6 | hofn\n",
      "Processing Record 41 of set 6 | potoru\n",
      "Processing Record 42 of set 6 | peniche\n",
      "Processing Record 43 of set 6 | alihe\n",
      "Processing Record 44 of set 6 | poum\n",
      "Processing Record 45 of set 6 | goundi\n",
      "Processing Record 46 of set 6 | saint george\n",
      "Processing Record 47 of set 6 | marsh harbour\n",
      "Processing Record 48 of set 6 | batyrevo\n",
      "Processing Record 49 of set 6 | sharjah\n",
      "Processing Record 0 of set 7 | monster\n",
      "Processing Record 1 of set 7 | bela\n",
      "Processing Record 2 of set 7 | tanjong malim\n",
      "city not found.Skipping...\n",
      "Processing Record 3 of set 7 | padang\n",
      "Processing Record 4 of set 7 | nantucket\n",
      "Processing Record 5 of set 7 | port elizabeth\n",
      "Processing Record 6 of set 7 | noumea\n",
      "Processing Record 7 of set 7 | castro\n",
      "Processing Record 8 of set 7 | nizwa\n",
      "Processing Record 9 of set 7 | zelenoborsk\n",
      "Processing Record 10 of set 7 | bardsir\n",
      "Processing Record 11 of set 7 | abbeville\n",
      "Processing Record 12 of set 7 | joshimath\n",
      "Processing Record 13 of set 7 | jijiga\n",
      "Processing Record 14 of set 7 | sur\n",
      "Processing Record 15 of set 7 | ust-maya\n",
      "Processing Record 16 of set 7 | matamoros\n",
      "Processing Record 17 of set 7 | newport\n",
      "Processing Record 18 of set 7 | kuala terengganu\n",
      "Processing Record 19 of set 7 | moskovskiy\n",
      "Processing Record 20 of set 7 | amapa\n",
      "Processing Record 21 of set 7 | pyay\n",
      "Processing Record 22 of set 7 | takoradi\n",
      "Processing Record 23 of set 7 | asnaes\n",
      "Processing Record 24 of set 7 | akdepe\n",
      "Processing Record 25 of set 7 | whitehorse\n",
      "Processing Record 26 of set 7 | longonjo\n",
      "Processing Record 27 of set 7 | mrirt\n",
      "city not found.Skipping...\n",
      "Processing Record 28 of set 7 | nokaneng\n",
      "Processing Record 29 of set 7 | ahipara\n",
      "Processing Record 30 of set 7 | marawi\n",
      "Processing Record 31 of set 7 | kushiro\n",
      "Processing Record 32 of set 7 | pacific grove\n",
      "Processing Record 33 of set 7 | san jose\n",
      "Processing Record 34 of set 7 | bengkulu\n",
      "Processing Record 35 of set 7 | san ramon\n",
      "Processing Record 36 of set 7 | otjiwarongo\n",
      "Processing Record 37 of set 7 | high level\n",
      "Processing Record 38 of set 7 | gravdal\n",
      "Processing Record 39 of set 7 | mildura\n",
      "Processing Record 40 of set 7 | beira\n",
      "Processing Record 41 of set 7 | acapulco\n",
      "Processing Record 42 of set 7 | qinnan\n",
      "Processing Record 43 of set 7 | yialos\n",
      "city not found.Skipping...\n",
      "Processing Record 44 of set 7 | skjervoy\n",
      "Processing Record 45 of set 7 | faya\n",
      "Processing Record 46 of set 7 | kununurra\n",
      "Processing Record 47 of set 7 | grootegast\n",
      "Processing Record 48 of set 7 | zeya\n",
      "Processing Record 49 of set 7 | baykit\n",
      "Processing Record 0 of set 8 | pucallpa\n",
      "Processing Record 1 of set 8 | soto la marina\n",
      "Processing Record 2 of set 8 | tazovskiy\n",
      "Processing Record 3 of set 8 | san vicente de canete\n",
      "Processing Record 4 of set 8 | ternate\n",
      "Processing Record 5 of set 8 | nabire\n",
      "Processing Record 6 of set 8 | mao\n",
      "Processing Record 7 of set 8 | ahuimanu\n",
      "Processing Record 8 of set 8 | evensk\n",
      "Processing Record 9 of set 8 | nanortalik\n",
      "Processing Record 10 of set 8 | tilichiki\n",
      "Processing Record 11 of set 8 | dzhusaly\n",
      "city not found.Skipping...\n",
      "Processing Record 12 of set 8 | bonfim\n",
      "Processing Record 13 of set 8 | sidney\n",
      "Processing Record 14 of set 8 | heihe\n",
      "Processing Record 15 of set 8 | dinsor\n",
      "city not found.Skipping...\n",
      "Processing Record 16 of set 8 | angoche\n",
      "Processing Record 17 of set 8 | agadir\n",
      "Processing Record 18 of set 8 | tukrah\n",
      "Processing Record 19 of set 8 | ossipee\n",
      "Processing Record 20 of set 8 | palmer\n",
      "Processing Record 21 of set 8 | beipiao\n",
      "Processing Record 22 of set 8 | ingham\n",
      "Processing Record 23 of set 8 | haines junction\n"
     ]
    },
    {
     "name": "stdout",
     "output_type": "stream",
     "text": [
      "Processing Record 24 of set 8 | inuvik\n",
      "Processing Record 25 of set 8 | olafsvik\n",
      "Processing Record 26 of set 8 | gawler\n",
      "Processing Record 27 of set 8 | grand gaube\n",
      "Processing Record 28 of set 8 | strangnas\n",
      "Processing Record 29 of set 8 | prainha\n",
      "Processing Record 30 of set 8 | sao geraldo do araguaia\n",
      "Processing Record 31 of set 8 | nushki\n",
      "Processing Record 32 of set 8 | sobolevo\n",
      "Processing Record 33 of set 8 | kailua\n",
      "Processing Record 34 of set 8 | guarapuava\n",
      "Processing Record 35 of set 8 | dibulla\n",
      "Processing Record 36 of set 8 | nanga eboko\n",
      "Processing Record 37 of set 8 | katsuura\n",
      "Processing Record 38 of set 8 | westport\n",
      "Processing Record 39 of set 8 | kamina\n",
      "Processing Record 40 of set 8 | abha\n",
      "Processing Record 41 of set 8 | pringsewu\n",
      "Processing Record 42 of set 8 | liverpool\n",
      "Processing Record 43 of set 8 | kalabagh\n",
      "Processing Record 44 of set 8 | bismarck\n",
      "Processing Record 45 of set 8 | samalaeulu\n",
      "city not found.Skipping...\n",
      "Processing Record 46 of set 8 | nemuro\n",
      "Processing Record 47 of set 8 | port blair\n",
      "Processing Record 48 of set 8 | pavlovka\n",
      "Processing Record 49 of set 8 | miri\n",
      "Processing Record 0 of set 9 | witu\n",
      "Processing Record 1 of set 9 | turukhansk\n",
      "Processing Record 2 of set 9 | kenai\n",
      "Processing Record 3 of set 9 | shizukuishi\n",
      "Processing Record 4 of set 9 | mishawaka\n",
      "Processing Record 5 of set 9 | fez\n",
      "Processing Record 6 of set 9 | ketchikan\n",
      "Processing Record 7 of set 9 | rudbar\n",
      "Processing Record 8 of set 9 | hailin\n",
      "Processing Record 9 of set 9 | vanavara\n",
      "Processing Record 10 of set 9 | darnah\n",
      "Processing Record 11 of set 9 | petropavlovsk-kamchatskiy\n",
      "Processing Record 12 of set 9 | hauterive\n",
      "Processing Record 13 of set 9 | rahden\n",
      "Processing Record 14 of set 9 | yumen\n",
      "Processing Record 15 of set 9 | sergeyevka\n",
      "Processing Record 16 of set 9 | constitucion\n",
      "Processing Record 17 of set 9 | kaitangata\n",
      "Processing Record 18 of set 9 | allanmyo\n",
      "city not found.Skipping...\n",
      "Processing Record 19 of set 9 | tete\n",
      "Processing Record 20 of set 9 | victoria point\n",
      "Processing Record 21 of set 9 | ostrovnoy\n",
      "Processing Record 22 of set 9 | port arthur\n",
      "Processing Record 23 of set 9 | sawang daen din\n",
      "Processing Record 24 of set 9 | manaus\n",
      "Processing Record 25 of set 9 | sosua\n",
      "Processing Record 26 of set 9 | port lincoln\n",
      "Processing Record 27 of set 9 | sentyabrskiy\n",
      "city not found.Skipping...\n",
      "Processing Record 28 of set 9 | murgab\n",
      "Processing Record 29 of set 9 | yurimaguas\n",
      "Processing Record 30 of set 9 | molchanovo\n",
      "Processing Record 31 of set 9 | louisbourg\n",
      "city not found.Skipping...\n",
      "Processing Record 32 of set 9 | gorom-gorom\n",
      "Processing Record 33 of set 9 | zhigansk\n",
      "Processing Record 34 of set 9 | rutana\n",
      "Processing Record 35 of set 9 | danbury\n",
      "Processing Record 36 of set 9 | rochester\n",
      "Processing Record 37 of set 9 | sulangan\n",
      "Processing Record 38 of set 9 | vao\n",
      "Processing Record 39 of set 9 | nelson bay\n",
      "Processing Record 40 of set 9 | el pueblito\n",
      "Processing Record 41 of set 9 | morro da fumaca\n",
      "Processing Record 42 of set 9 | abu dhabi\n",
      "Processing Record 43 of set 9 | vaitape\n",
      "Processing Record 44 of set 9 | nizza monferrato\n",
      "Processing Record 45 of set 9 | ust-tsilma\n",
      "Processing Record 46 of set 9 | riohacha\n",
      "Processing Record 47 of set 9 | samarai\n",
      "Processing Record 48 of set 9 | datong\n",
      "Processing Record 49 of set 9 | sitka\n",
      "Processing Record 0 of set 10 | iroquois falls\n",
      "Processing Record 1 of set 10 | asfi\n",
      "Processing Record 2 of set 10 | marsa matruh\n",
      "Processing Record 3 of set 10 | allende\n",
      "Processing Record 4 of set 10 | rio gallegos\n",
      "Processing Record 5 of set 10 | leninskoye\n",
      "Processing Record 6 of set 10 | koungou\n",
      "Processing Record 7 of set 10 | nola\n",
      "Processing Record 8 of set 10 | cabo san lucas\n",
      "Processing Record 9 of set 10 | puerto escondido\n",
      "Processing Record 10 of set 10 | ixtapa\n",
      "Processing Record 11 of set 10 | sabang\n",
      "Processing Record 12 of set 10 | eganville\n",
      "Processing Record 13 of set 10 | luwuk\n",
      "Processing Record 14 of set 10 | manadhoo\n",
      "Processing Record 15 of set 10 | yaransk\n",
      "Processing Record 16 of set 10 | troina\n",
      "Processing Record 17 of set 10 | gat\n",
      "Processing Record 18 of set 10 | qurbus\n",
      "Processing Record 19 of set 10 | carauari\n",
      "Processing Record 20 of set 10 | soria\n",
      "Processing Record 21 of set 10 | bulgan\n",
      "Processing Record 22 of set 10 | lubango\n",
      "Processing Record 23 of set 10 | innisfail\n",
      "Processing Record 24 of set 10 | makakilo city\n",
      "Processing Record 25 of set 10 | cabedelo\n",
      "Processing Record 26 of set 10 | kendari\n",
      "Processing Record 27 of set 10 | hirado\n",
      "Processing Record 28 of set 10 | kyabe\n",
      "Processing Record 29 of set 10 | atasu\n",
      "Processing Record 30 of set 10 | srednekolymsk\n",
      "Processing Record 31 of set 10 | sinjai\n",
      "Processing Record 32 of set 10 | soe\n",
      "Processing Record 33 of set 10 | buala\n",
      "Processing Record 34 of set 10 | mountain home\n",
      "Processing Record 35 of set 10 | hobyo\n",
      "Processing Record 36 of set 10 | puerto baquerizo moreno\n",
      "Processing Record 37 of set 10 | tautira\n",
      "Processing Record 38 of set 10 | sola\n",
      "Processing Record 39 of set 10 | vila velha\n",
      "Processing Record 40 of set 10 | sarangani\n",
      "Processing Record 41 of set 10 | falealupo\n",
      "city not found.Skipping...\n",
      "Processing Record 42 of set 10 | kaeo\n",
      "Processing Record 43 of set 10 | alofi\n",
      "Processing Record 44 of set 10 | noshiro\n",
      "Processing Record 45 of set 10 | alotau\n",
      "city not found.Skipping...\n",
      "Processing Record 46 of set 10 | den helder\n",
      "Processing Record 47 of set 10 | sao joao da barra\n",
      "Processing Record 48 of set 10 | hambantota\n",
      "Processing Record 49 of set 10 | gweta\n",
      "Processing Record 0 of set 11 | tigil\n",
      "Processing Record 1 of set 11 | fort saint john\n",
      "city not found.Skipping...\n",
      "Processing Record 2 of set 11 | fatehpur sikri\n",
      "Processing Record 3 of set 11 | anchorage\n",
      "Processing Record 4 of set 11 | ponta delgada\n",
      "Processing Record 5 of set 11 | tres lagoas\n",
      "Processing Record 6 of set 11 | ust-omchug\n",
      "Processing Record 7 of set 11 | sabha\n",
      "Processing Record 8 of set 11 | surt\n",
      "Processing Record 9 of set 11 | maragogi\n",
      "Processing Record 10 of set 11 | kidal\n",
      "Processing Record 11 of set 11 | twin falls\n",
      "Processing Record 12 of set 11 | mbalmayo\n",
      "Processing Record 13 of set 11 | le port\n",
      "Processing Record 14 of set 11 | yerofey pavlovich\n",
      "Processing Record 15 of set 11 | rodbyhavn\n",
      "Processing Record 16 of set 11 | guerrero negro\n",
      "Processing Record 17 of set 11 | sterling\n",
      "Processing Record 18 of set 11 | la troncal\n",
      "Processing Record 19 of set 11 | rocha\n",
      "Processing Record 20 of set 11 | milledgeville\n",
      "Processing Record 21 of set 11 | axim\n",
      "Processing Record 22 of set 11 | mocambique\n",
      "city not found.Skipping...\n",
      "Processing Record 23 of set 11 | santa quiteria\n",
      "Processing Record 24 of set 11 | san patricio\n",
      "Processing Record 25 of set 11 | port keats\n",
      "Processing Record 26 of set 11 | nhamunda\n",
      "Processing Record 27 of set 11 | waipawa\n",
      "Processing Record 28 of set 11 | acajutla\n",
      "Processing Record 29 of set 11 | usinsk\n",
      "Processing Record 30 of set 11 | mehamn\n",
      "Processing Record 31 of set 11 | necochea\n",
      "Processing Record 32 of set 11 | praia da vitoria\n",
      "Processing Record 33 of set 11 | pendleton\n",
      "Processing Record 34 of set 11 | banepa\n",
      "Processing Record 35 of set 11 | pitea\n",
      "Processing Record 36 of set 11 | port-gentil\n",
      "Processing Record 37 of set 11 | vieux-habitants\n",
      "Processing Record 38 of set 11 | lodwar\n",
      "Processing Record 39 of set 11 | saint-augustin\n",
      "Processing Record 40 of set 11 | sainte-marie\n",
      "Processing Record 41 of set 11 | damghan\n",
      "Processing Record 42 of set 11 | new albany\n",
      "Processing Record 43 of set 11 | grindavik\n",
      "Processing Record 44 of set 11 | cam pha\n",
      "city not found.Skipping...\n",
      "Processing Record 45 of set 11 | yamada\n",
      "Processing Record 46 of set 11 | pallasovka\n",
      "Processing Record 47 of set 11 | ngukurr\n",
      "city not found.Skipping...\n",
      "Processing Record 48 of set 11 | berzasca\n",
      "Processing Record 49 of set 11 | diego de almagro\n",
      "Processing Record 0 of set 12 | aliartos\n",
      "Processing Record 1 of set 12 | pecos\n",
      "Processing Record 2 of set 12 | akyab\n",
      "Processing Record 3 of set 12 | yerbogachen\n",
      "Processing Record 4 of set 12 | annau\n",
      "Processing Record 5 of set 12 | san fernando\n",
      "Processing Record 6 of set 12 | kalengwa\n",
      "Processing Record 7 of set 12 | yaya\n",
      "Processing Record 8 of set 12 | broken hill\n",
      "Processing Record 9 of set 12 | stantsiya gorchakovo\n",
      "city not found.Skipping...\n",
      "Processing Record 10 of set 12 | kawalu\n",
      "Processing Record 11 of set 12 | ordu\n",
      "Processing Record 12 of set 12 | bubaque\n",
      "Processing Record 13 of set 12 | litoral del san juan\n"
     ]
    },
    {
     "name": "stdout",
     "output_type": "stream",
     "text": [
      "city not found.Skipping...\n",
      "Processing Record 14 of set 12 | brae\n",
      "Processing Record 15 of set 12 | faanui\n",
      "Processing Record 16 of set 12 | chambas\n",
      "Processing Record 17 of set 12 | belyy yar\n",
      "Processing Record 18 of set 12 | belton\n",
      "Processing Record 19 of set 12 | alexandria\n",
      "Processing Record 20 of set 12 | raisinghnagar\n",
      "Processing Record 21 of set 12 | powell river\n",
      "Processing Record 22 of set 12 | stornoway\n",
      "Processing Record 23 of set 12 | khonsa\n",
      "Processing Record 24 of set 12 | skoghall\n",
      "Processing Record 25 of set 12 | tateyama\n",
      "Processing Record 26 of set 12 | oeiras do para\n",
      "Processing Record 27 of set 12 | nuuk\n",
      "Processing Record 28 of set 12 | san lorenzo\n",
      "Processing Record 29 of set 12 | hereford\n",
      "Processing Record 30 of set 12 | hammerfest\n",
      "Processing Record 31 of set 12 | raga\n",
      "Processing Record 32 of set 12 | awjilah\n",
      "Processing Record 33 of set 12 | chinu\n",
      "Processing Record 34 of set 12 | ngunguru\n",
      "Processing Record 35 of set 12 | hamilton\n",
      "Processing Record 36 of set 12 | fereydun kenar\n",
      "Processing Record 37 of set 12 | yarada\n",
      "----------------------\n",
      "Data Retrieval Complete\n",
      "----------------------\n"
     ]
    }
   ],
   "source": [
    "record_count = 1\n",
    "set_count = 1\n",
    "city_data = []\n",
    "#Iterate over each row\n",
    "for i, city in enumerate(cities):\n",
    "    if (i % 50 == 0 and i >= 50):\n",
    "        set_count += 1\n",
    "        record_count = 0\n",
    "#index, row in df.iterrows():\n",
    "    #city = row['city']\n",
    "    print(\"Processing Record %s of set %s | %s\" %(record_count, set_count, city))\n",
    "    record_count += 1\n",
    "    #city = city.replace(\" \", \"&\")\n",
    "    url = \"http://api.openweathermap.org/data/2.5/weather?appid=\" + weather_api_key + \"&q=\" + city\n",
    "    #print(url)\n",
    "    try:\n",
    "        weather = requests.get(url).json()\n",
    "        city_temp = weather['main']['temp']\n",
    "        lat = weather['coord']['lat']\n",
    "        lon = weather['coord']['lon']\n",
    "        country = weather['sys']['country']\n",
    "        date = weather['dt']\n",
    "        city_max_temp = weather['main']['temp_max']\n",
    "        city_humidity = weather['main']['humidity']\n",
    "        city_wind_speed = weather['wind']['speed']\n",
    "        city_clouds = weather['clouds']['all']\n",
    "        \n",
    "        #Append city into city_info\n",
    "        city_data.append({\"City\": city,\n",
    "                      \"Temperature\" : city_max_temp,\n",
    "                      \"Humidity\" : city_humidity,\n",
    "                      \"Longitude\" : lon,\n",
    "                      \"Latitude\" : lat,\n",
    "                      \"Cloudiness\" : city_clouds,\n",
    "                      \"Country\" : country,\n",
    "                      \"Windspeed\" : city_wind_speed,\n",
    "                      \"Date\" : date})\n",
    "        \n",
    "    except:\n",
    "        print('city not found.Skipping...')\n",
    "        pass\n",
    "    \n",
    "print(\"----------------------\")\n",
    "print(\"Data Retrieval Complete\")\n",
    "print(\"----------------------\")"
   ]
  },
  {
   "cell_type": "markdown",
   "metadata": {},
   "source": [
    "### Convert Raw Data to DataFrame\n",
    "* Export the city data into a .csv.\n",
    "* Display the DataFrame"
   ]
  },
  {
   "cell_type": "code",
   "execution_count": 167,
   "metadata": {},
   "outputs": [
    {
     "data": {
      "text/html": [
       "<div>\n",
       "<style scoped>\n",
       "    .dataframe tbody tr th:only-of-type {\n",
       "        vertical-align: middle;\n",
       "    }\n",
       "\n",
       "    .dataframe tbody tr th {\n",
       "        vertical-align: top;\n",
       "    }\n",
       "\n",
       "    .dataframe thead th {\n",
       "        text-align: right;\n",
       "    }\n",
       "</style>\n",
       "<table border=\"1\" class=\"dataframe\">\n",
       "  <thead>\n",
       "    <tr style=\"text-align: right;\">\n",
       "      <th></th>\n",
       "      <th>City</th>\n",
       "      <th>Temperature</th>\n",
       "      <th>Humidity</th>\n",
       "      <th>Longitude</th>\n",
       "      <th>Latitude</th>\n",
       "      <th>Cloudiness</th>\n",
       "      <th>Country</th>\n",
       "      <th>Windspeed</th>\n",
       "      <th>Date</th>\n",
       "    </tr>\n",
       "  </thead>\n",
       "  <tbody>\n",
       "    <tr>\n",
       "      <th>0</th>\n",
       "      <td>saskylakh</td>\n",
       "      <td>266.87</td>\n",
       "      <td>97</td>\n",
       "      <td>114.08</td>\n",
       "      <td>71.92</td>\n",
       "      <td>98</td>\n",
       "      <td>RU</td>\n",
       "      <td>3.25</td>\n",
       "      <td>1603220266</td>\n",
       "    </tr>\n",
       "    <tr>\n",
       "      <th>1</th>\n",
       "      <td>ushuaia</td>\n",
       "      <td>280.15</td>\n",
       "      <td>56</td>\n",
       "      <td>-68.30</td>\n",
       "      <td>-54.80</td>\n",
       "      <td>40</td>\n",
       "      <td>AR</td>\n",
       "      <td>8.70</td>\n",
       "      <td>1603220266</td>\n",
       "    </tr>\n",
       "    <tr>\n",
       "      <th>2</th>\n",
       "      <td>longyearbyen</td>\n",
       "      <td>268.15</td>\n",
       "      <td>79</td>\n",
       "      <td>15.64</td>\n",
       "      <td>78.22</td>\n",
       "      <td>2</td>\n",
       "      <td>SJ</td>\n",
       "      <td>2.60</td>\n",
       "      <td>1603220266</td>\n",
       "    </tr>\n",
       "    <tr>\n",
       "      <th>3</th>\n",
       "      <td>mahebourg</td>\n",
       "      <td>297.15</td>\n",
       "      <td>73</td>\n",
       "      <td>57.70</td>\n",
       "      <td>-20.41</td>\n",
       "      <td>20</td>\n",
       "      <td>MU</td>\n",
       "      <td>4.60</td>\n",
       "      <td>1603220106</td>\n",
       "    </tr>\n",
       "    <tr>\n",
       "      <th>4</th>\n",
       "      <td>nome</td>\n",
       "      <td>274.15</td>\n",
       "      <td>80</td>\n",
       "      <td>-165.41</td>\n",
       "      <td>64.50</td>\n",
       "      <td>20</td>\n",
       "      <td>US</td>\n",
       "      <td>2.45</td>\n",
       "      <td>1603220266</td>\n",
       "    </tr>\n",
       "  </tbody>\n",
       "</table>\n",
       "</div>"
      ],
      "text/plain": [
       "           City  Temperature  Humidity  Longitude  Latitude  Cloudiness  \\\n",
       "0     saskylakh       266.87        97     114.08     71.92          98   \n",
       "1       ushuaia       280.15        56     -68.30    -54.80          40   \n",
       "2  longyearbyen       268.15        79      15.64     78.22           2   \n",
       "3     mahebourg       297.15        73      57.70    -20.41          20   \n",
       "4          nome       274.15        80    -165.41     64.50          20   \n",
       "\n",
       "  Country  Windspeed        Date  \n",
       "0      RU       3.25  1603220266  \n",
       "1      AR       8.70  1603220266  \n",
       "2      SJ       2.60  1603220266  \n",
       "3      MU       4.60  1603220106  \n",
       "4      US       2.45  1603220266  "
      ]
     },
     "execution_count": 167,
     "metadata": {},
     "output_type": "execute_result"
    }
   ],
   "source": [
    "city_data_pd = pd.DataFrame(city_data)\n",
    "city_data_pd.head()"
   ]
  },
  {
   "cell_type": "code",
   "execution_count": 168,
   "metadata": {},
   "outputs": [
    {
     "data": {
      "text/html": [
       "<div>\n",
       "<style scoped>\n",
       "    .dataframe tbody tr th:only-of-type {\n",
       "        vertical-align: middle;\n",
       "    }\n",
       "\n",
       "    .dataframe tbody tr th {\n",
       "        vertical-align: top;\n",
       "    }\n",
       "\n",
       "    .dataframe thead th {\n",
       "        text-align: right;\n",
       "    }\n",
       "</style>\n",
       "<table border=\"1\" class=\"dataframe\">\n",
       "  <thead>\n",
       "    <tr style=\"text-align: right;\">\n",
       "      <th></th>\n",
       "      <th>City</th>\n",
       "      <th>Temperature</th>\n",
       "      <th>Humidity</th>\n",
       "      <th>Longitude</th>\n",
       "      <th>Latitude</th>\n",
       "      <th>Cloudiness</th>\n",
       "      <th>Country</th>\n",
       "      <th>Windspeed</th>\n",
       "      <th>Date</th>\n",
       "    </tr>\n",
       "  </thead>\n",
       "  <tbody>\n",
       "    <tr>\n",
       "      <th>0</th>\n",
       "      <td>saskylakh</td>\n",
       "      <td>266.87</td>\n",
       "      <td>97</td>\n",
       "      <td>114.08</td>\n",
       "      <td>71.92</td>\n",
       "      <td>98</td>\n",
       "      <td>RU</td>\n",
       "      <td>3.25</td>\n",
       "      <td>1603220266</td>\n",
       "    </tr>\n",
       "    <tr>\n",
       "      <th>1</th>\n",
       "      <td>ushuaia</td>\n",
       "      <td>280.15</td>\n",
       "      <td>56</td>\n",
       "      <td>-68.30</td>\n",
       "      <td>-54.80</td>\n",
       "      <td>40</td>\n",
       "      <td>AR</td>\n",
       "      <td>8.70</td>\n",
       "      <td>1603220266</td>\n",
       "    </tr>\n",
       "    <tr>\n",
       "      <th>2</th>\n",
       "      <td>longyearbyen</td>\n",
       "      <td>268.15</td>\n",
       "      <td>79</td>\n",
       "      <td>15.64</td>\n",
       "      <td>78.22</td>\n",
       "      <td>2</td>\n",
       "      <td>SJ</td>\n",
       "      <td>2.60</td>\n",
       "      <td>1603220266</td>\n",
       "    </tr>\n",
       "    <tr>\n",
       "      <th>3</th>\n",
       "      <td>mahebourg</td>\n",
       "      <td>297.15</td>\n",
       "      <td>73</td>\n",
       "      <td>57.70</td>\n",
       "      <td>-20.41</td>\n",
       "      <td>20</td>\n",
       "      <td>MU</td>\n",
       "      <td>4.60</td>\n",
       "      <td>1603220106</td>\n",
       "    </tr>\n",
       "    <tr>\n",
       "      <th>4</th>\n",
       "      <td>nome</td>\n",
       "      <td>274.15</td>\n",
       "      <td>80</td>\n",
       "      <td>-165.41</td>\n",
       "      <td>64.50</td>\n",
       "      <td>20</td>\n",
       "      <td>US</td>\n",
       "      <td>2.45</td>\n",
       "      <td>1603220266</td>\n",
       "    </tr>\n",
       "  </tbody>\n",
       "</table>\n",
       "</div>"
      ],
      "text/plain": [
       "           City  Temperature  Humidity  Longitude  Latitude  Cloudiness  \\\n",
       "0     saskylakh       266.87        97     114.08     71.92          98   \n",
       "1       ushuaia       280.15        56     -68.30    -54.80          40   \n",
       "2  longyearbyen       268.15        79      15.64     78.22           2   \n",
       "3     mahebourg       297.15        73      57.70    -20.41          20   \n",
       "4          nome       274.15        80    -165.41     64.50          20   \n",
       "\n",
       "  Country  Windspeed        Date  \n",
       "0      RU       3.25  1603220266  \n",
       "1      AR       8.70  1603220266  \n",
       "2      SJ       2.60  1603220266  \n",
       "3      MU       4.60  1603220106  \n",
       "4      US       2.45  1603220266  "
      ]
     },
     "execution_count": 168,
     "metadata": {},
     "output_type": "execute_result"
    }
   ],
   "source": [
    "city_data_pd.to_csv(\"cities.csv\")\n",
    "city_data_pd.head()"
   ]
  },
  {
   "cell_type": "markdown",
   "metadata": {},
   "source": [
    "## Inspect the data and remove the cities where the humidity > 100%.\n",
    "----\n",
    "Skip this step if there are no cities that have humidity > 100%. "
   ]
  },
  {
   "cell_type": "code",
   "execution_count": 169,
   "metadata": {},
   "outputs": [
    {
     "data": {
      "text/html": [
       "<div>\n",
       "<style scoped>\n",
       "    .dataframe tbody tr th:only-of-type {\n",
       "        vertical-align: middle;\n",
       "    }\n",
       "\n",
       "    .dataframe tbody tr th {\n",
       "        vertical-align: top;\n",
       "    }\n",
       "\n",
       "    .dataframe thead th {\n",
       "        text-align: right;\n",
       "    }\n",
       "</style>\n",
       "<table border=\"1\" class=\"dataframe\">\n",
       "  <thead>\n",
       "    <tr style=\"text-align: right;\">\n",
       "      <th></th>\n",
       "      <th>City</th>\n",
       "      <th>Longitude</th>\n",
       "      <th>Latitude</th>\n",
       "      <th>Humidity</th>\n",
       "    </tr>\n",
       "  </thead>\n",
       "  <tbody>\n",
       "  </tbody>\n",
       "</table>\n",
       "</div>"
      ],
      "text/plain": [
       "Empty DataFrame\n",
       "Columns: [City, Longitude, Latitude, Humidity]\n",
       "Index: []"
      ]
     },
     "execution_count": 169,
     "metadata": {},
     "output_type": "execute_result"
    }
   ],
   "source": [
    "#  Get the indices of cities that have humidity over 100%.\n",
    "high_humidity = city_data_pd[city_data_pd[\"Humidity\"] > 100]\n",
    "high_humidity[['City', 'Longitude', 'Latitude', 'Humidity']]"
   ]
  },
  {
   "cell_type": "markdown",
   "metadata": {},
   "source": [
    "No cities had humidity(%) greater than 100."
   ]
  },
  {
   "cell_type": "code",
   "execution_count": 170,
   "metadata": {},
   "outputs": [
    {
     "data": {
      "text/html": [
       "<div>\n",
       "<style scoped>\n",
       "    .dataframe tbody tr th:only-of-type {\n",
       "        vertical-align: middle;\n",
       "    }\n",
       "\n",
       "    .dataframe tbody tr th {\n",
       "        vertical-align: top;\n",
       "    }\n",
       "\n",
       "    .dataframe thead th {\n",
       "        text-align: right;\n",
       "    }\n",
       "</style>\n",
       "<table border=\"1\" class=\"dataframe\">\n",
       "  <thead>\n",
       "    <tr style=\"text-align: right;\">\n",
       "      <th></th>\n",
       "      <th>City</th>\n",
       "      <th>Temperature</th>\n",
       "      <th>Humidity</th>\n",
       "      <th>Longitude</th>\n",
       "      <th>Latitude</th>\n",
       "      <th>Cloudiness</th>\n",
       "      <th>Country</th>\n",
       "      <th>Windspeed</th>\n",
       "      <th>Date</th>\n",
       "    </tr>\n",
       "  </thead>\n",
       "  <tbody>\n",
       "    <tr>\n",
       "      <th>0</th>\n",
       "      <td>saskylakh</td>\n",
       "      <td>266.87</td>\n",
       "      <td>97</td>\n",
       "      <td>114.08</td>\n",
       "      <td>71.92</td>\n",
       "      <td>98</td>\n",
       "      <td>RU</td>\n",
       "      <td>3.25</td>\n",
       "      <td>1603220266</td>\n",
       "    </tr>\n",
       "    <tr>\n",
       "      <th>1</th>\n",
       "      <td>ushuaia</td>\n",
       "      <td>280.15</td>\n",
       "      <td>56</td>\n",
       "      <td>-68.30</td>\n",
       "      <td>-54.80</td>\n",
       "      <td>40</td>\n",
       "      <td>AR</td>\n",
       "      <td>8.70</td>\n",
       "      <td>1603220266</td>\n",
       "    </tr>\n",
       "    <tr>\n",
       "      <th>2</th>\n",
       "      <td>longyearbyen</td>\n",
       "      <td>268.15</td>\n",
       "      <td>79</td>\n",
       "      <td>15.64</td>\n",
       "      <td>78.22</td>\n",
       "      <td>2</td>\n",
       "      <td>SJ</td>\n",
       "      <td>2.60</td>\n",
       "      <td>1603220266</td>\n",
       "    </tr>\n",
       "    <tr>\n",
       "      <th>3</th>\n",
       "      <td>mahebourg</td>\n",
       "      <td>297.15</td>\n",
       "      <td>73</td>\n",
       "      <td>57.70</td>\n",
       "      <td>-20.41</td>\n",
       "      <td>20</td>\n",
       "      <td>MU</td>\n",
       "      <td>4.60</td>\n",
       "      <td>1603220106</td>\n",
       "    </tr>\n",
       "    <tr>\n",
       "      <th>4</th>\n",
       "      <td>nome</td>\n",
       "      <td>274.15</td>\n",
       "      <td>80</td>\n",
       "      <td>-165.41</td>\n",
       "      <td>64.50</td>\n",
       "      <td>20</td>\n",
       "      <td>US</td>\n",
       "      <td>2.45</td>\n",
       "      <td>1603220266</td>\n",
       "    </tr>\n",
       "    <tr>\n",
       "      <th>...</th>\n",
       "      <td>...</td>\n",
       "      <td>...</td>\n",
       "      <td>...</td>\n",
       "      <td>...</td>\n",
       "      <td>...</td>\n",
       "      <td>...</td>\n",
       "      <td>...</td>\n",
       "      <td>...</td>\n",
       "      <td>...</td>\n",
       "    </tr>\n",
       "    <tr>\n",
       "      <th>530</th>\n",
       "      <td>chinu</td>\n",
       "      <td>302.46</td>\n",
       "      <td>70</td>\n",
       "      <td>-75.40</td>\n",
       "      <td>9.11</td>\n",
       "      <td>85</td>\n",
       "      <td>CO</td>\n",
       "      <td>1.52</td>\n",
       "      <td>1603220332</td>\n",
       "    </tr>\n",
       "    <tr>\n",
       "      <th>531</th>\n",
       "      <td>ngunguru</td>\n",
       "      <td>284.82</td>\n",
       "      <td>95</td>\n",
       "      <td>174.50</td>\n",
       "      <td>-35.62</td>\n",
       "      <td>100</td>\n",
       "      <td>NZ</td>\n",
       "      <td>1.68</td>\n",
       "      <td>1603220332</td>\n",
       "    </tr>\n",
       "    <tr>\n",
       "      <th>532</th>\n",
       "      <td>hamilton</td>\n",
       "      <td>285.15</td>\n",
       "      <td>93</td>\n",
       "      <td>-84.53</td>\n",
       "      <td>39.18</td>\n",
       "      <td>90</td>\n",
       "      <td>US</td>\n",
       "      <td>2.10</td>\n",
       "      <td>1603220208</td>\n",
       "    </tr>\n",
       "    <tr>\n",
       "      <th>533</th>\n",
       "      <td>fereydun kenar</td>\n",
       "      <td>291.15</td>\n",
       "      <td>88</td>\n",
       "      <td>52.52</td>\n",
       "      <td>36.69</td>\n",
       "      <td>14</td>\n",
       "      <td>IR</td>\n",
       "      <td>2.10</td>\n",
       "      <td>1603220332</td>\n",
       "    </tr>\n",
       "    <tr>\n",
       "      <th>534</th>\n",
       "      <td>yarada</td>\n",
       "      <td>301.15</td>\n",
       "      <td>94</td>\n",
       "      <td>83.27</td>\n",
       "      <td>17.65</td>\n",
       "      <td>40</td>\n",
       "      <td>IN</td>\n",
       "      <td>1.00</td>\n",
       "      <td>1603220332</td>\n",
       "    </tr>\n",
       "  </tbody>\n",
       "</table>\n",
       "<p>535 rows × 9 columns</p>\n",
       "</div>"
      ],
      "text/plain": [
       "               City  Temperature  Humidity  Longitude  Latitude  Cloudiness  \\\n",
       "0         saskylakh       266.87        97     114.08     71.92          98   \n",
       "1           ushuaia       280.15        56     -68.30    -54.80          40   \n",
       "2      longyearbyen       268.15        79      15.64     78.22           2   \n",
       "3         mahebourg       297.15        73      57.70    -20.41          20   \n",
       "4              nome       274.15        80    -165.41     64.50          20   \n",
       "..              ...          ...       ...        ...       ...         ...   \n",
       "530           chinu       302.46        70     -75.40      9.11          85   \n",
       "531        ngunguru       284.82        95     174.50    -35.62         100   \n",
       "532        hamilton       285.15        93     -84.53     39.18          90   \n",
       "533  fereydun kenar       291.15        88      52.52     36.69          14   \n",
       "534          yarada       301.15        94      83.27     17.65          40   \n",
       "\n",
       "    Country  Windspeed        Date  \n",
       "0        RU       3.25  1603220266  \n",
       "1        AR       8.70  1603220266  \n",
       "2        SJ       2.60  1603220266  \n",
       "3        MU       4.60  1603220106  \n",
       "4        US       2.45  1603220266  \n",
       "..      ...        ...         ...  \n",
       "530      CO       1.52  1603220332  \n",
       "531      NZ       1.68  1603220332  \n",
       "532      US       2.10  1603220208  \n",
       "533      IR       2.10  1603220332  \n",
       "534      IN       1.00  1603220332  \n",
       "\n",
       "[535 rows x 9 columns]"
      ]
     },
     "execution_count": 170,
     "metadata": {},
     "output_type": "execute_result"
    }
   ],
   "source": [
    "# Make a new DataFrame equal to the city data to drop all humidity outliers by index.\n",
    "# Passing \"inplace=False\" will make a copy of the city-data DataFrame, which we call \"clean_city_data\".\n",
    "clean_city_data = city_data_pd[city_data_pd[\"Humidity\"] <= 100]\n",
    "clean_city_data"
   ]
  },
  {
   "cell_type": "markdown",
   "metadata": {},
   "source": [
    "## Plotting the Data\n",
    "* Use proper labeling of the plots using plot titles (including date of analysis) and axes labels.\n",
    "* Save the plotted figures as .pngs."
   ]
  },
  {
   "cell_type": "markdown",
   "metadata": {},
   "source": [
    "## Latitude vs. Temperature Plot"
   ]
  },
  {
   "cell_type": "code",
   "execution_count": 171,
   "metadata": {},
   "outputs": [
    {
     "data": {
      "image/png": "[encoded data removed]",
      "text/plain": [
       "<Figure size 432x288 with 1 Axes>"
      ]
     },
     "metadata": {
      "needs_background": "light"
     },
     "output_type": "display_data"
    },
    {
     "data": {
      "text/plain": [
       "<Figure size 432x288 with 0 Axes>"
      ]
     },
     "metadata": {},
     "output_type": "display_data"
    }
   ],
   "source": [
    "plt.scatter(clean_city_data.iloc[:,4], clean_city_data.iloc[:,1])\n",
    "plt.title('City Latitude vs. Max Temperature(F) (10/20/20)')\n",
    "plt.xlabel('Latitude')\n",
    "plt.ylabel('Max Temperature (F)')\n",
    "plt.show()\n",
    "\n",
    "plt.savefig('LatVsTemp.png')"
   ]
  },
  {
   "cell_type": "markdown",
   "metadata": {
    "scrolled": true
   },
   "source": [
    "This code is analyzing the highest temperatures at city latitudes. It indicates that the temperatures are higher closer the to equater(Latitude of 0)."
   ]
  },
  {
   "cell_type": "markdown",
   "metadata": {},
   "source": [
    "## Latitude vs. Humidity Plot"
   ]
  },
  {
   "cell_type": "code",
   "execution_count": 172,
   "metadata": {
    "scrolled": true
   },
   "outputs": [
    {
     "data": {
      "image/png": "[encoded data removed]",
      "text/plain": [
       "<Figure size 432x288 with 1 Axes>"
      ]
     },
     "metadata": {
      "needs_background": "light"
     },
     "output_type": "display_data"
    },
    {
     "data": {
      "text/plain": [
       "<Figure size 432x288 with 0 Axes>"
      ]
     },
     "metadata": {},
     "output_type": "display_data"
    }
   ],
   "source": [
    "plt.scatter(clean_city_data.iloc[:,4], clean_city_data.iloc[:,2])\n",
    "plt.title('City Latitude vs. Humidity(%) (10/20/20)')\n",
    "plt.xlabel('Latitude')\n",
    "plt.ylabel('Humidity (%)')\n",
    "plt.show()\n",
    "\n",
    "plt.savefig('LatVsHumidity.png')"
   ]
  },
  {
   "cell_type": "markdown",
   "metadata": {},
   "source": [
    "This code is analyzing the percent humidity at city latitudes. The dense cluster in the upper right corner indicates that the humidity is higher at higher latitudes."
   ]
  },
  {
   "cell_type": "markdown",
   "metadata": {},
   "source": [
    "## Latitude vs. Cloudiness Plot"
   ]
  },
  {
   "cell_type": "code",
   "execution_count": 173,
   "metadata": {},
   "outputs": [
    {
     "data": {
      "image/png": "[encoded data removed]",
      "text/plain": [
       "<Figure size 432x288 with 1 Axes>"
      ]
     },
     "metadata": {
      "needs_background": "light"
     },
     "output_type": "display_data"
    },
    {
     "data": {
      "text/plain": [
       "<Figure size 432x288 with 0 Axes>"
      ]
     },
     "metadata": {},
     "output_type": "display_data"
    }
   ],
   "source": [
    "plt.scatter(clean_city_data.iloc[:,4], clean_city_data.iloc[:,5])\n",
    "plt.title('City Latitude vs. Cloudiness(%) (10/20/20)')\n",
    "plt.xlabel('Latitude')\n",
    "plt.ylabel('Cloudiness (%)')\n",
    "plt.show()\n",
    "\n",
    "plt.savefig('LatVsCloudiness.png')"
   ]
  },
  {
   "cell_type": "markdown",
   "metadata": {},
   "source": [
    "This code is analyzing the percent cloudiness at city latitudes. It indicates that the cloudiness is dispersed pretty equally throughout the latitudes."
   ]
  },
  {
   "cell_type": "markdown",
   "metadata": {},
   "source": [
    "## Latitude vs. Wind Speed Plot"
   ]
  },
  {
   "cell_type": "code",
   "execution_count": 174,
   "metadata": {},
   "outputs": [
    {
     "data": {
      "image/png": "[encoded data removed]",
      "text/plain": [
       "<Figure size 432x288 with 1 Axes>"
      ]
     },
     "metadata": {
      "needs_background": "light"
     },
     "output_type": "display_data"
    },
    {
     "data": {
      "text/plain": [
       "<Figure size 432x288 with 0 Axes>"
      ]
     },
     "metadata": {},
     "output_type": "display_data"
    }
   ],
   "source": [
    "plt.scatter(clean_city_data.iloc[:,4], clean_city_data.iloc[:,7])\n",
    "plt.title('City Latitude vs. Wind Speed(mph) (10/20/20)')\n",
    "plt.xlabel('Latitude')\n",
    "plt.ylabel('Wind Speen (mph)')\n",
    "plt.show()\n",
    "\n",
    "plt.savefig('LatVsWind.png')"
   ]
  },
  {
   "cell_type": "markdown",
   "metadata": {},
   "source": [
    "This code is analyzing the wind speeds(mph) at city latitudes. It indicates that the wind speeds are generally lower. The highest wind speeds are found closer to the north and south pole."
   ]
  },
  {
   "cell_type": "markdown",
   "metadata": {},
   "source": [
    "## Linear Regression"
   ]
  },
  {
   "cell_type": "code",
   "execution_count": 175,
   "metadata": {},
   "outputs": [],
   "source": [
    "#Create data sets for Northern and Southern Hemispheres\n",
    "north_hem = clean_city_data[clean_city_data[\"Latitude\"] >= 0]\n",
    "\n",
    "south_hem = clean_city_data[clean_city_data[\"Latitude\"] <= 0]"
   ]
  },
  {
   "cell_type": "markdown",
   "metadata": {},
   "source": [
    "####  Northern Hemisphere - Max Temp vs. Latitude Linear Regression"
   ]
  },
  {
   "cell_type": "code",
   "execution_count": 190,
   "metadata": {},
   "outputs": [
    {
     "name": "stdout",
     "output_type": "stream",
     "text": [
      "The r-value is: 0.77839312265034\n"
     ]
    },
    {
     "data": {
      "image/png": "[encoded data removed]",
      "text/plain": [
       "<Figure size 432x288 with 1 Axes>"
      ]
     },
     "metadata": {
      "needs_background": "light"
     },
     "output_type": "display_data"
    },
    {
     "data": {
      "text/plain": [
       "<Figure size 432x288 with 0 Axes>"
      ]
     },
     "metadata": {},
     "output_type": "display_data"
    }
   ],
   "source": [
    "x_values = north_hem['Latitude']\n",
    "y_values = north_hem['Temperature']\n",
    "(slope, intercept, rvalue, pvalue, stderr) = linregress(x_values, y_values)\n",
    "regress_values = x_values * slope + intercept\n",
    "\n",
    "line_eq = \"y - \" + str(round(slope,2)) + \"x + \" + str(round(intercept, 2))\n",
    "plt.scatter(x_values, y_values)\n",
    "plt.plot(x_values, regress_values, \"r-\")\n",
    "plt.annotate(line_eq, (6,10), fontsize=15, color= \"red\")\n",
    "plt.xlabel('Max Temperature')\n",
    "plt.ylabel('Latitude')\n",
    "plt.title('Northern Hemisphere Max Temp vs. Latitude Linear Regression')\n",
    "\n",
    "# Print r value\n",
    "print(f\"The r-value is: {rvalue**2}\")\n",
    "\n",
    "plt.show()\n",
    "\n",
    "plt.savefig('NorthHemLatVsTemp.png')"
   ]
  },
  {
   "cell_type": "markdown",
   "metadata": {},
   "source": [
    "####  Southern Hemisphere - Max Temp vs. Latitude Linear Regression"
   ]
  },
  {
   "cell_type": "code",
   "execution_count": 191,
   "metadata": {},
   "outputs": [
    {
     "name": "stdout",
     "output_type": "stream",
     "text": [
      "The r-value is: 0.6354271199294212\n"
     ]
    },
    {
     "data": {
      "image/png": "[encoded data removed]",
      "text/plain": [
       "<Figure size 432x288 with 1 Axes>"
      ]
     },
     "metadata": {
      "needs_background": "light"
     },
     "output_type": "display_data"
    },
    {
     "data": {
      "text/plain": [
       "<Figure size 432x288 with 0 Axes>"
      ]
     },
     "metadata": {},
     "output_type": "display_data"
    }
   ],
   "source": [
    "x_values = south_hem['Latitude']\n",
    "y_values = south_hem['Temperature']\n",
    "(slope, intercept, rvalue, pvalue, stderr) = linregress(x_values, y_values)\n",
    "regress_values = x_values * slope + intercept\n",
    "\n",
    "line_eq = \"y - \" + str(round(slope,2)) + \"x + \" + str(round(intercept, 2))\n",
    "plt.scatter(x_values, y_values)\n",
    "plt.plot(x_values, regress_values, \"r-\")\n",
    "plt.annotate(line_eq, (6,10), fontsize=15, color= \"red\")\n",
    "plt.xlabel('Max Temperature')\n",
    "plt.ylabel('Latitude')\n",
    "plt.title('Southern Hemisphere Max Temp vs. Latitude Linear Regression')\n",
    "\n",
    "# Print r value\n",
    "print(f\"The r-value is: {rvalue**2}\")\n",
    "\n",
    "plt.show()\n",
    "\n",
    "plt.savefig('SouthHemLatVsTemp.png')"
   ]
  },
  {
   "cell_type": "markdown",
   "metadata": {},
   "source": [
    "####  Northern Hemisphere - Humidity (%) vs. Latitude Linear Regression"
   ]
  },
  {
   "cell_type": "code",
   "execution_count": 192,
   "metadata": {},
   "outputs": [
    {
     "name": "stdout",
     "output_type": "stream",
     "text": [
      "The r-value is: 0.0992634883297114\n"
     ]
    },
    {
     "data": {
      "image/png": "[encoded data removed]",
      "text/plain": [
       "<Figure size 432x288 with 1 Axes>"
      ]
     },
     "metadata": {
      "needs_background": "light"
     },
     "output_type": "display_data"
    },
    {
     "data": {
      "text/plain": [
       "<Figure size 432x288 with 0 Axes>"
      ]
     },
     "metadata": {},
     "output_type": "display_data"
    }
   ],
   "source": [
    "x_values = north_hem['Latitude']\n",
    "y_values = north_hem['Humidity']\n",
    "(slope, intercept, rvalue, pvalue, stderr) = linregress(x_values, y_values)\n",
    "regress_values = x_values * slope + intercept\n",
    "\n",
    "line_eq = \"y - \" + str(round(slope,2)) + \"x + \" + str(round(intercept, 2))\n",
    "plt.scatter(x_values, y_values)\n",
    "plt.plot(x_values, regress_values, \"r-\")\n",
    "plt.annotate(line_eq, (6,10), fontsize=15, color= \"red\")\n",
    "plt.xlabel('Humidity (%)')\n",
    "plt.ylabel('Latitude')\n",
    "plt.title('Humidity vs. Latitude Linear Regression')\n",
    "\n",
    "# Print r value\n",
    "print(f\"The r-value is: {rvalue**2}\")\n",
    "\n",
    "plt.show()\n",
    "\n",
    "plt.savefig('NorthHemLatVsHumidity.png')"
   ]
  },
  {
   "cell_type": "code",
   "execution_count": 193,
   "metadata": {},
   "outputs": [],
   "source": [
    "#"
   ]
  },
  {
   "cell_type": "markdown",
   "metadata": {},
   "source": [
    "####  Southern Hemisphere - Humidity (%) vs. Latitude Linear Regression"
   ]
  },
  {
   "cell_type": "code",
   "execution_count": 194,
   "metadata": {},
   "outputs": [
    {
     "name": "stdout",
     "output_type": "stream",
     "text": [
      "The r-value is: 0.002955261080173451\n"
     ]
    },
    {
     "data": {
      "image/png": "[encoded data removed]",
      "text/plain": [
       "<Figure size 432x288 with 1 Axes>"
      ]
     },
     "metadata": {
      "needs_background": "light"
     },
     "output_type": "display_data"
    },
    {
     "data": {
      "text/plain": [
       "<Figure size 432x288 with 0 Axes>"
      ]
     },
     "metadata": {},
     "output_type": "display_data"
    }
   ],
   "source": [
    "x_values = south_hem['Latitude']\n",
    "y_values = south_hem['Humidity']\n",
    "(slope, intercept, rvalue, pvalue, stderr) = linregress(x_values, y_values)\n",
    "regress_values = x_values * slope + intercept\n",
    "\n",
    "line_eq = \"y - \" + str(round(slope,2)) + \"x + \" + str(round(intercept, 2))\n",
    "plt.scatter(x_values, y_values)\n",
    "plt.plot(x_values, regress_values, \"r-\")\n",
    "plt.annotate(line_eq, (6,10), fontsize=15, color= \"red\")\n",
    "plt.xlabel('Humidity (%)')\n",
    "plt.ylabel('Latitude')\n",
    "plt.title('Humidity vs. Latitude Linear Regression')\n",
    "\n",
    "# Print r value\n",
    "print(f\"The r-value is: {rvalue**2}\")\n",
    "\n",
    "plt.show()\n",
    "\n",
    "plt.savefig('SouthHemLatVsHumidity.png')"
   ]
  },
  {
   "cell_type": "code",
   "execution_count": 195,
   "metadata": {},
   "outputs": [],
   "source": [
    "#"
   ]
  },
  {
   "cell_type": "markdown",
   "metadata": {},
   "source": [
    "####  Northern Hemisphere - Cloudiness (%) vs. Latitude Linear Regression"
   ]
  },
  {
   "cell_type": "code",
   "execution_count": 196,
   "metadata": {},
   "outputs": [
    {
     "name": "stdout",
     "output_type": "stream",
     "text": [
      "The r-value is: 0.05712739517883373\n"
     ]
    },
    {
     "data": {
      "image/png": "[encoded data removed]",
      "text/plain": [
       "<Figure size 432x288 with 1 Axes>"
      ]
     },
     "metadata": {
      "needs_background": "light"
     },
     "output_type": "display_data"
    },
    {
     "data": {
      "text/plain": [
       "<Figure size 432x288 with 0 Axes>"
      ]
     },
     "metadata": {},
     "output_type": "display_data"
    }
   ],
   "source": [
    "x_values = north_hem['Latitude']\n",
    "y_values = north_hem['Cloudiness']\n",
    "(slope, intercept, rvalue, pvalue, stderr) = linregress(x_values, y_values)\n",
    "regress_values = x_values * slope + intercept\n",
    "\n",
    "line_eq = \"y - \" + str(round(slope,2)) + \"x + \" + str(round(intercept, 2))\n",
    "plt.scatter(x_values, y_values)\n",
    "plt.plot(x_values, regress_values, \"r-\")\n",
    "plt.annotate(line_eq, (6,10), fontsize=15, color= \"red\")\n",
    "plt.xlabel('Cloudiness (%)')\n",
    "plt.ylabel('Latitude')\n",
    "plt.title('Cloudiness vs. Latitude Linear Regression')\n",
    "\n",
    "# Print r value\n",
    "print(f\"The r-value is: {rvalue**2}\")\n",
    "\n",
    "plt.show()\n",
    "\n",
    "plt.savefig('NorthHemLatVsCloudiness.png')"
   ]
  },
  {
   "cell_type": "code",
   "execution_count": 197,
   "metadata": {},
   "outputs": [],
   "source": [
    "#"
   ]
  },
  {
   "cell_type": "markdown",
   "metadata": {},
   "source": [
    "####  Southern Hemisphere - Cloudiness (%) vs. Latitude Linear Regression"
   ]
  },
  {
   "cell_type": "code",
   "execution_count": 198,
   "metadata": {},
   "outputs": [
    {
     "name": "stdout",
     "output_type": "stream",
     "text": [
      "The r-value is: 0.0196037187717222\n"
     ]
    },
    {
     "data": {
      "image/png": "[encoded data removed]",
      "text/plain": [
       "<Figure size 432x288 with 1 Axes>"
      ]
     },
     "metadata": {
      "needs_background": "light"
     },
     "output_type": "display_data"
    },
    {
     "data": {
      "text/plain": [
       "<Figure size 432x288 with 0 Axes>"
      ]
     },
     "metadata": {},
     "output_type": "display_data"
    }
   ],
   "source": [
    "x_values = south_hem['Latitude']\n",
    "y_values = south_hem['Cloudiness']\n",
    "(slope, intercept, rvalue, pvalue, stderr) = linregress(x_values, y_values)\n",
    "regress_values = x_values * slope + intercept\n",
    "\n",
    "line_eq = \"y - \" + str(round(slope,2)) + \"x + \" + str(round(intercept, 2))\n",
    "plt.scatter(x_values, y_values)\n",
    "plt.plot(x_values, regress_values, \"r-\")\n",
    "plt.annotate(line_eq, (6,10), fontsize=15, color= \"red\")\n",
    "plt.xlabel('Cloudiness (%)')\n",
    "plt.ylabel('Latitude')\n",
    "plt.title('Cloudiness vs. Latitude Linear Regression')\n",
    "\n",
    "# Print r value\n",
    "print(f\"The r-value is: {rvalue**2}\")\n",
    "\n",
    "plt.show()\n",
    "\n",
    "plt.savefig('SouthHemLatVsCloudiness.png')"
   ]
  },
  {
   "cell_type": "code",
   "execution_count": 199,
   "metadata": {},
   "outputs": [],
   "source": [
    "#"
   ]
  },
  {
   "cell_type": "markdown",
   "metadata": {},
   "source": [
    "####  Northern Hemisphere - Wind Speed (mph) vs. Latitude Linear Regression"
   ]
  },
  {
   "cell_type": "code",
   "execution_count": 200,
   "metadata": {},
   "outputs": [
    {
     "name": "stdout",
     "output_type": "stream",
     "text": [
      "The r-value is: 0.00031106617973015327\n"
     ]
    },
    {
     "data": {
      "image/png": "[encoded data removed]",
      "text/plain": [
       "<Figure size 432x288 with 1 Axes>"
      ]
     },
     "metadata": {
      "needs_background": "light"
     },
     "output_type": "display_data"
    },
    {
     "data": {
      "text/plain": [
       "<Figure size 432x288 with 0 Axes>"
      ]
     },
     "metadata": {},
     "output_type": "display_data"
    }
   ],
   "source": [
    "x_values = north_hem['Latitude']\n",
    "y_values = north_hem['Windspeed']\n",
    "(slope, intercept, rvalue, pvalue, stderr) = linregress(x_values, y_values)\n",
    "regress_values = x_values * slope + intercept\n",
    "\n",
    "line_eq = \"y - \" + str(round(slope,2)) + \"x + \" + str(round(intercept, 2))\n",
    "plt.scatter(x_values, y_values)\n",
    "plt.plot(x_values, regress_values, \"r-\")\n",
    "plt.annotate(line_eq, (6,10), fontsize=15, color= \"red\")\n",
    "plt.xlabel('Windspeed (mph)')\n",
    "plt.ylabel('Latitude')\n",
    "plt.title('Windspeed vs. Latitude Linear Regression')\n",
    "\n",
    "# Print r value\n",
    "print(f\"The r-value is: {rvalue**2}\")\n",
    "\n",
    "plt.show()\n",
    "\n",
    "plt.savefig('NorthHemLatVsWind.png')"
   ]
  },
  {
   "cell_type": "code",
   "execution_count": 201,
   "metadata": {},
   "outputs": [],
   "source": [
    "#"
   ]
  },
  {
   "cell_type": "markdown",
   "metadata": {},
   "source": [
    "####  Southern Hemisphere - Wind Speed (mph) vs. Latitude Linear Regression"
   ]
  },
  {
   "cell_type": "code",
   "execution_count": 202,
   "metadata": {},
   "outputs": [
    {
     "name": "stdout",
     "output_type": "stream",
     "text": [
      "The r-value is: 0.017075234041300884\n"
     ]
    },
    {
     "data": {
      "image/png": "[encoded data removed]",
      "text/plain": [
       "<Figure size 432x288 with 1 Axes>"
      ]
     },
     "metadata": {
      "needs_background": "light"
     },
     "output_type": "display_data"
    },
    {
     "data": {
      "text/plain": [
       "<Figure size 432x288 with 0 Axes>"
      ]
     },
     "metadata": {},
     "output_type": "display_data"
    }
   ],
   "source": [
    "x_values = south_hem['Latitude']\n",
    "y_values = south_hem['Windspeed']\n",
    "(slope, intercept, rvalue, pvalue, stderr) = linregress(x_values, y_values)\n",
    "regress_values = x_values * slope + intercept\n",
    "\n",
    "line_eq = \"y - \" + str(round(slope,2)) + \"x + \" + str(round(intercept, 2))\n",
    "plt.scatter(x_values, y_values)\n",
    "plt.plot(x_values, regress_values, \"r-\")\n",
    "plt.annotate(line_eq, (6,10), fontsize=15, color= \"red\")\n",
    "plt.xlabel('Windspeed (mph)')\n",
    "plt.ylabel('Latitude')\n",
    "plt.title('Windspeed vs. Latitude Linear Regression')\n",
    "\n",
    "# Print r value\n",
    "print(f\"The r-value is: {rvalue**2}\")\n",
    "\n",
    "plt.show()\n",
    "\n",
    "plt.savefig('SouthHemLatVsWind.png')"
   ]
  }
 ],
 "metadata": {
  "anaconda-cloud": {},
  "kernel_info": {
   "name": "python3"
  },
  "kernelspec": {
   "display_name": "Python [conda env:PythonData] *",
   "language": "python",
   "name": "conda-env-PythonData-py"
  },
  "language_info": {
   "codemirror_mode": {
    "name": "ipython",
    "version": 3
   },
   "file_extension": ".py",
   "mimetype": "text/x-python",
   "name": "python",
   "nbconvert_exporter": "python",
   "pygments_lexer": "ipython3",
   "version": "3.6.10"
  },
  "latex_envs": {
   "LaTeX_envs_menu_present": true,
   "autoclose": false,
   "autocomplete": true,
   "bibliofile": "biblio.bib",
   "cite_by": "apalike",
   "current_citInitial": 1,
   "eqLabelWithNumbers": true,
   "eqNumInitial": 1,
   "hotkeys": {
    "equation": "Ctrl-E",
    "itemize": "Ctrl-I"
   },
   "labels_anchors": false,
   "latex_user_defs": false,
   "report_style_numbering": false,
   "user_envs_cfg": false
  },
  "nteract": {
   "version": "0.12.3"
  }
 },
 "nbformat": 4,
 "nbformat_minor": 2
}
